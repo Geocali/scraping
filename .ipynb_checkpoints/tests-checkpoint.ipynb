{
 "cells": [
  {
   "cell_type": "code",
   "execution_count": 1,
   "metadata": {},
   "outputs": [],
   "source": [
    "import sqlite3\n",
    "import pandas as pd\n",
    "import sys\n",
    "if (sys.version_info[0] == 3):\n",
    "    from urllib.request import urlopen\n",
    "else:\n",
    "    from urllib2 import urlopen\n",
    "from lxml import etree\n",
    "import numpy as np"
   ]
  },
  {
   "cell_type": "code",
   "execution_count": 2,
   "metadata": {
    "scrolled": false
   },
   "outputs": [],
   "source": [
    "conn = sqlite3.connect('caves.db')\n",
    "query = \"SELECT * FROM caves ORDER BY date_creation\"\n",
    "#pd.read_sql_query(query,conn, parse_dates=['date_creation', 'date_suppression'])"
   ]
  },
  {
   "cell_type": "code",
   "execution_count": 3,
   "metadata": {},
   "outputs": [],
   "source": [
    "def infos_annonce2(url_request):\n",
    "    htmlparser = etree.HTMLParser()\n",
    "    page_ads = urlopen(url_request)\n",
    "    tree_ads = etree.parse(page_ads, htmlparser)\n",
    "    ad_title = tree_ads.xpath(\"/html/body/section[1]/main/section/section/section/header/h1\")[0].text\n",
    "\n",
    "    results = []\n",
    "    for i_section in range(1, 3):\n",
    "        for i_div in range(1, 15):\n",
    "            xpath_category_i = \"/html/body/section[1]/main/section/section/section/section/section[\" + str(i_section) + \"]/div[\" + str(i_div) + \"]/h2/span[\" + str(1) + \"]\"\n",
    "            xpath_value_i = \"/html/body/section[1]/main/section/section/section/section/section[\" + str(i_section) + \"]/div[\" + str(i_div) + \"]/h2/span[\" + str(2) + \"]\"\n",
    "            try:\n",
    "                category_i = tree_ads.xpath(xpath_category_i)[0].text.replace(\"\\\\n\", \"\")\n",
    "                value_i = tree_ads.xpath(xpath_value_i)[0].text\n",
    "            except:\n",
    "                category_i = ''\n",
    "                value_i = ''\n",
    "            if(len(category_i) != 0):\n",
    "                results.append([i_section, i_div, category_i, value_i])\n",
    "    \n",
    "    # on cherche les informations qui nous intéressent\n",
    "    # la surface\n",
    "    category = \"Surface\"\n",
    "    result = \"\"\n",
    "    for line in results:\n",
    "        if(line[2].find(category) > -1):\n",
    "            result = line[3]\n",
    "    if(len(result) > 0):\n",
    "        result = result.split(\" \")[0]\n",
    "    if(len(result)>0):\n",
    "        ad_surface = int(result)\n",
    "    else:\n",
    "        ad_surface = 0\n",
    "\n",
    "    # le nombre de pièces\n",
    "    category = \"Pièces\".decode('utf8')\n",
    "    result = \"\"\n",
    "    for line in results:\n",
    "        text = line[2]#.decode('latin1')\n",
    "        if(text.find(category) > -1):\n",
    "            result = line[3]\n",
    "    if(len(result) > 0):\n",
    "        result = result.split(\" \")[0]\n",
    "    if(len(result)>0):\n",
    "        pieces = int(result)\n",
    "    else:\n",
    "        pieces = 0\n",
    "\n",
    "    # pour ne pas garder les appartements\n",
    "    if(pieces > 1):\n",
    "        ad_surface = np.nan\n",
    "\n",
    "    # on récupère la description\n",
    "    ad_description = \"\"\n",
    "    for section_i in range(1, 3):\n",
    "        for div_i in range(10, 15):\n",
    "            #xpath1 = \"//*[@id=\\\"adview\\\"]/section/section/section/div[12]/p[2]/text()[\" + str(i) + \"]\"\n",
    "            xpath = \"/html/body/section[1]/main/section/section/section/section/section[\" + str(section_i) + \"]/div[\" + str(div_i) + \"]/p[2]/text()\"\n",
    "            #tmp = tree_ads.xpath(xpath1)[0].replace(\"\\\\n\", \"\")\n",
    "            #ad_description = ad_description + \"<br>\" + tmp\n",
    "            try:\n",
    "                obj = tree_ads.xpath(xpath)\n",
    "                for i in range(len(obj)):\n",
    "                    ad_description = ad_description + \"<br>\" + obj[i].replace(\"\\\\n\", \"\")\n",
    "            except:\n",
    "                print(\"description not found\")\n",
    "    ad_description = ad_description[4:]\n",
    "\n",
    "    # on récupère la date de création de l'annonce\n",
    "    xpath = \"//*[@id=\\\"adview\\\"]/section/section/section/p\"\n",
    "    ad_creation = tree_ads.xpath(xpath)[0].values()[2]\n",
    "\n",
    "    # on cherche des mots clés pour voir s'il s'agit d'un appartement\n",
    "    # si c'est le cas, on fixe la surface à 0 pour ne pas le prendre en compte\n",
    "    keywords = ['Appart', 'appart', 'studio', 'Studio', 'meublé'.decode('utf8')]\n",
    "    for keyword in keywords:\n",
    "        if ad_title.find(keyword) != -1:\n",
    "            ad_surface = np.nan\n",
    "\n",
    "\n",
    "    print(\"surface : \" + str(ad_surface))\n",
    "    return ad_surface, ad_description, ad_creation"
   ]
  },
  {
   "cell_type": "code",
   "execution_count": 4,
   "metadata": {},
   "outputs": [
    {
     "name": "stdout",
     "output_type": "stream",
     "text": [
      "surface : 3\n"
     ]
    }
   ],
   "source": [
    "url = \"https://www.leboncoin.fr/locations/1328164479.htm?ca=12_s\"\n",
    "ad_surface, ad_description, ad_creation = infos_annonce2(url)\n",
    "df_ajouts = pd.DataFrame()\n",
    "df_ajouts = df_ajouts.append({'id':123456, 'title':'tiiitre', 'price':127, 'url':url, 'type':'LBC', 'city':'Paris', 'surface':ad_surface, 'description':ad_description, 'date_creation':ad_creation, 'date_suppression':np.nan}, ignore_index=True)\n",
    "df_ajouts = df_ajouts.append({'id':123456, 'title':'tiiitre', 'price':127, 'url':url, 'type':'LBC', 'city':'Paris', 'surface':ad_surface, 'description':ad_description, 'date_creation':ad_creation, 'date_suppression':np.nan}, ignore_index=True)\n",
    "#conn.commit()\n",
    "df_ajouts.to_sql(\"caves\", conn, if_exists='append', index=False)\n"
   ]
  },
  {
   "cell_type": "code",
   "execution_count": 5,
   "metadata": {},
   "outputs": [],
   "source": [
    "#cur.close()\n",
    "conn.close()"
   ]
  },
  {
   "cell_type": "code",
   "execution_count": 6,
   "metadata": {},
   "outputs": [
    {
     "data": {
      "text/html": [
       "<div>\n",
       "<style>\n",
       "    .dataframe thead tr:only-child th {\n",
       "        text-align: right;\n",
       "    }\n",
       "\n",
       "    .dataframe thead th {\n",
       "        text-align: left;\n",
       "    }\n",
       "\n",
       "    .dataframe tbody tr th {\n",
       "        vertical-align: top;\n",
       "    }\n",
       "</style>\n",
       "<table border=\"1\" class=\"dataframe\">\n",
       "  <thead>\n",
       "    <tr style=\"text-align: right;\">\n",
       "      <th></th>\n",
       "      <th>city</th>\n",
       "      <th>date_creation</th>\n",
       "      <th>date_suppression</th>\n",
       "      <th>description</th>\n",
       "      <th>id</th>\n",
       "      <th>price</th>\n",
       "      <th>surface</th>\n",
       "      <th>title</th>\n",
       "      <th>type</th>\n",
       "      <th>url</th>\n",
       "    </tr>\n",
       "  </thead>\n",
       "  <tbody>\n",
       "    <tr>\n",
       "      <th>0</th>\n",
       "      <td>Paris</td>\n",
       "      <td>2017-10-30</td>\n",
       "      <td>NaN</td>\n",
       "      <td>Bonjour,&lt;br&gt;Louez une cave de 2,60m² (ou 6,20m...</td>\n",
       "      <td>123456.0</td>\n",
       "      <td>127.0</td>\n",
       "      <td>3.0</td>\n",
       "      <td>tiiitre</td>\n",
       "      <td>LBC</td>\n",
       "      <td>https://www.leboncoin.fr/locations/1328164479....</td>\n",
       "    </tr>\n",
       "    <tr>\n",
       "      <th>1</th>\n",
       "      <td>Paris</td>\n",
       "      <td>2017-10-30</td>\n",
       "      <td>NaN</td>\n",
       "      <td>Bonjour,&lt;br&gt;Louez une cave de 2,60m² (ou 6,20m...</td>\n",
       "      <td>123456.0</td>\n",
       "      <td>127.0</td>\n",
       "      <td>3.0</td>\n",
       "      <td>tiiitre</td>\n",
       "      <td>LBC</td>\n",
       "      <td>https://www.leboncoin.fr/locations/1328164479....</td>\n",
       "    </tr>\n",
       "  </tbody>\n",
       "</table>\n",
       "</div>"
      ],
      "text/plain": [
       "    city date_creation  date_suppression  \\\n",
       "0  Paris    2017-10-30               NaN   \n",
       "1  Paris    2017-10-30               NaN   \n",
       "\n",
       "                                         description        id  price  \\\n",
       "0  Bonjour,<br>Louez une cave de 2,60m² (ou 6,20m...  123456.0  127.0   \n",
       "1  Bonjour,<br>Louez une cave de 2,60m² (ou 6,20m...  123456.0  127.0   \n",
       "\n",
       "   surface    title type                                                url  \n",
       "0      3.0  tiiitre  LBC  https://www.leboncoin.fr/locations/1328164479....  \n",
       "1      3.0  tiiitre  LBC  https://www.leboncoin.fr/locations/1328164479....  "
      ]
     },
     "execution_count": 6,
     "metadata": {},
     "output_type": "execute_result"
    }
   ],
   "source": [
    "df_ajouts"
   ]
  },
  {
   "cell_type": "code",
   "execution_count": 8,
   "metadata": {},
   "outputs": [],
   "source": [
    "df = df_ajouts[['url', 'id']]"
   ]
  },
  {
   "cell_type": "code",
   "execution_count": 16,
   "metadata": {},
   "outputs": [
    {
     "data": {
      "text/plain": [
       "'2017-10-30'"
      ]
     },
     "execution_count": 16,
     "metadata": {},
     "output_type": "execute_result"
    }
   ],
   "source": [
    "import datetime\n",
    "i = datetime.datetime.now()\n",
    "t = str(i.year) + \"-\" + str(i.month) + \"-\" + str(i.day)\n",
    "t"
   ]
  },
  {
   "cell_type": "code",
   "execution_count": 21,
   "metadata": {},
   "outputs": [
    {
     "name": "stderr",
     "output_type": "stream",
     "text": [
      "/usr/local/lib/python2.7/dist-packages/ipykernel_launcher.py:2: SettingWithCopyWarning: \n",
      "A value is trying to be set on a copy of a slice from a DataFrame.\n",
      "Try using .loc[row_indexer,col_indexer] = value instead\n",
      "\n",
      "See the caveats in the documentation: http://pandas.pydata.org/pandas-docs/stable/indexing.html#indexing-view-versus-copy\n",
      "  \n"
     ]
    }
   ],
   "source": [
    "tab = [t for i in range(df.shape[0])]\n",
    "df['date_mesure'] = tab"
   ]
  },
  {
   "cell_type": "code",
   "execution_count": 22,
   "metadata": {},
   "outputs": [
    {
     "data": {
      "text/html": [
       "<div>\n",
       "<style>\n",
       "    .dataframe thead tr:only-child th {\n",
       "        text-align: right;\n",
       "    }\n",
       "\n",
       "    .dataframe thead th {\n",
       "        text-align: left;\n",
       "    }\n",
       "\n",
       "    .dataframe tbody tr th {\n",
       "        vertical-align: top;\n",
       "    }\n",
       "</style>\n",
       "<table border=\"1\" class=\"dataframe\">\n",
       "  <thead>\n",
       "    <tr style=\"text-align: right;\">\n",
       "      <th></th>\n",
       "      <th>url</th>\n",
       "      <th>id</th>\n",
       "      <th>date_mesure</th>\n",
       "    </tr>\n",
       "  </thead>\n",
       "  <tbody>\n",
       "    <tr>\n",
       "      <th>0</th>\n",
       "      <td>https://www.leboncoin.fr/locations/1328164479....</td>\n",
       "      <td>123456.0</td>\n",
       "      <td>2017-10-30</td>\n",
       "    </tr>\n",
       "    <tr>\n",
       "      <th>1</th>\n",
       "      <td>https://www.leboncoin.fr/locations/1328164479....</td>\n",
       "      <td>123456.0</td>\n",
       "      <td>2017-10-30</td>\n",
       "    </tr>\n",
       "  </tbody>\n",
       "</table>\n",
       "</div>"
      ],
      "text/plain": [
       "                                                 url        id date_mesure\n",
       "0  https://www.leboncoin.fr/locations/1328164479....  123456.0  2017-10-30\n",
       "1  https://www.leboncoin.fr/locations/1328164479....  123456.0  2017-10-30"
      ]
     },
     "execution_count": 22,
     "metadata": {},
     "output_type": "execute_result"
    }
   ],
   "source": [
    "df"
   ]
  },
  {
   "cell_type": "code",
   "execution_count": 23,
   "metadata": {},
   "outputs": [
    {
     "data": {
      "text/plain": [
       "'2017-10-30 13:32:09.951616'"
      ]
     },
     "execution_count": 23,
     "metadata": {},
     "output_type": "execute_result"
    }
   ],
   "source": [
    "str(datetime.datetime.now())"
   ]
  },
  {
   "cell_type": "code",
   "execution_count": null,
   "metadata": {},
   "outputs": [],
   "source": []
  }
 ],
 "metadata": {
  "kernelspec": {
   "display_name": "Python 2",
   "language": "python",
   "name": "python2"
  },
  "language_info": {
   "codemirror_mode": {
    "name": "ipython",
    "version": 2
   },
   "file_extension": ".py",
   "mimetype": "text/x-python",
   "name": "python",
   "nbconvert_exporter": "python",
   "pygments_lexer": "ipython2",
   "version": "2.7.12"
  }
 },
 "nbformat": 4,
 "nbformat_minor": 2
}
